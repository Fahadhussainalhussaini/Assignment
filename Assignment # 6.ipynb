{
 "cells": [
  {
   "cell_type": "markdown",
   "metadata": {},
   "source": [
    "Assigment# 6\n",
    "\n",
    "Q1: Define Object Oriented Programming Language?\n",
    "\n",
    "Ans: Object-oriented programming is a programming paradigm based on the concept of \"objects\", which can contain data, in the form of fields, and code, in the form of procedures. \n",
    "\n",
    "Q2: List down the Benefits of OOP?\n",
    "\n",
    "Ans: \n",
    "1. Modularity for easier troubleshooting\n",
    "2. Reuse of code through inheritance\n",
    "3. Flexibility through polymorphism\n",
    "4. Effective problem solving\n",
    "\n",
    "Q3: Differentiate between function and method?\n",
    "\n",
    "Ans: \n",
    "Function:\n",
    "A function is a piece of code that is called by name. It can be passed data to operate on (i.e. the parameters) and can optionally return data (the return value). All data that is passed to a function is explicitly passed. \n",
    "Method: \n",
    "A method is a piece of code that is called by a name that is associated with an object.\n",
    "\n",
    "Q4: Define the following terms:\n",
    "1. Class:\n",
    "In object-oriented programming, a class is a blueprint for creating objects (a particular data structure), providing initial values for state (member variables or attributes), and implementations of behavior (member functions or methods).\n",
    "2. Object:\n",
    "An object is a component of a program that knows how to perform certain actions and how to interact with other elements of the program. Objects are the basic units of object-oriented programming.\n",
    "3. Attribute:\n",
    "Attributes are data stored inside a class or instance and represent the state or quality of the class or instance. In short, attributes store information about the instance.\n",
    "4. Behavior:\n",
    "The behavior of an object is defined by its methods, which are the functions and subroutines defined within the object class. Without class methods, a class would simply be a structure. Methods determine what type of functionality a class has, how it modifies its data, and its overall behavior."
   ]
  },
  {
   "cell_type": "code",
   "execution_count": 39,
   "metadata": {},
   "outputs": [
    {
     "name": "stdout",
     "output_type": "stream",
     "text": [
      "Car 1: \n",
      "Name: Corolla\n",
      "Model: 2015\n",
      "Colour: Black\n",
      "Registeration No. XYZ 123\n",
      "Size: Large\n",
      "\n",
      "Car 2: \n",
      "Name: Honda\n",
      "Model: 2016\n",
      "Colour: White\n",
      "Registeration No. ABC 769\n",
      "Size: Medium\n",
      "\n",
      "Car 3: \n",
      "Name: Mehran\n",
      "Model: 2012\n",
      "Colour: Red\n",
      "Registeration No. UVW 122\n",
      "Size: Small\n"
     ]
    }
   ],
   "source": [
    "\"\"\" Write a code in python in which create a class named it Car which\n",
    "have 5 attributes such like (model, color and name etc.) and 3\n",
    "methods. And create 5 object instance from that class. \"\"\"\n",
    "\n",
    "class Car():\n",
    "    def __init__(self,name,model,colour,regNo,size):\n",
    "        self.name=name\n",
    "        self.colour=colour\n",
    "        self.size=size\n",
    "        self.regNo = regNo\n",
    "        self.model= model\n",
    "        \n",
    "car1 = Car(\"Corolla\",\"2015\",\"Black\",\"XYZ 123\",\"Large\")\n",
    "print(\"Car 1: \\nName: \"+car1.name)\n",
    "print(\"Model:\",car1.model)\n",
    "print(\"Colour:\",car1.colour)\n",
    "print(\"Registeration No.\",car1.regNo)\n",
    "print(\"Size:\",car1.size)\n",
    "\n",
    "car2 = Car(\"Honda\",\"2016\",\"White\",\"ABC 769\",\"Medium\")\n",
    "print(\"\\nCar 2: \\nName: \"+car2.name)\n",
    "print(\"Model:\",car2.model)\n",
    "print(\"Colour:\",car2.colour)\n",
    "print(\"Registeration No.\",car2.regNo)\n",
    "print(\"Size:\",car2.size)\n",
    "\n",
    "car3 = Car(\"Mehran\",\"2012\",\"Red\",\"UVW 122\",\"Small\")\n",
    "print(\"\\nCar 3: \\nName: \"+car3.name)\n",
    "print(\"Model:\",car3.model)\n",
    "print(\"Colour:\",car3.colour)\n",
    "print(\"Registeration No.\",car3.regNo)\n",
    "print(\"Size:\",car3.size)\n"
   ]
  },
  {
   "cell_type": "code",
   "execution_count": null,
   "metadata": {},
   "outputs": [],
   "source": []
  },
  {
   "cell_type": "code",
   "execution_count": null,
   "metadata": {},
   "outputs": [],
   "source": []
  }
 ],
 "metadata": {
  "kernelspec": {
   "display_name": "Python 3",
   "language": "python",
   "name": "python3"
  },
  "language_info": {
   "codemirror_mode": {
    "name": "ipython",
    "version": 3
   },
   "file_extension": ".py",
   "mimetype": "text/x-python",
   "name": "python",
   "nbconvert_exporter": "python",
   "pygments_lexer": "ipython3",
   "version": "3.7.4"
  }
 },
 "nbformat": 4,
 "nbformat_minor": 2
}
