{
 "cells": [
  {
   "cell_type": "code",
   "execution_count": 1,
   "metadata": {},
   "outputs": [
    {
     "name": "stdout",
     "output_type": "stream",
     "text": [
      "{'first_name': 'Muhammad', 'last_name': 'Ali', 'age': 19, 'city': 'Hyderabad'}\n",
      "{'first_name': 'Muhammad', 'last_name': 'Ali', 'age': 19, 'city': 'Hyderabad', 'qualification': 'Higher Academic Level'}\n",
      "{'first_name': 'Muhammad', 'last_name': 'Ali', 'age': 19, 'city': 'Hyderabad'}\n"
     ]
    }
   ],
   "source": [
    "# Q1: \n",
    "info={\"first_name\":\"Muhammad\",\"last_name\":\"Ali\",\"age\":19,\"city\":\"Hyderabad\"}\n",
    "print(info)\n",
    "info[\"qualification\"]=\"Higher Academic Level\"\n",
    "print(info)\n",
    "del info[\"qualification\"]\n",
    "print(info)"
   ]
  },
  {
   "cell_type": "code",
   "execution_count": 2,
   "metadata": {},
   "outputs": [
    {
     "name": "stdout",
     "output_type": "stream",
     "text": [
      "{'Hyderabad': {'Country': 'Pakistan', 'Population': '1.73 Million', 'Fact': 'Hyderabad is 6th Largest city of Pakistan.'}, 'London': {'Country': 'England', 'Population': '8.9 Million', 'Fact': 'London Has 170 Museums.'}, 'Mumbai': {'Country': 'India', 'Population': '18.41 Million', 'Fact': 'Mumbai was the first one to start a bus service in India.'}}\n"
     ]
    }
   ],
   "source": [
    "# Q2: \n",
    "cities={\n",
    "    'Hyderabad':{\"Country\":\"Pakistan\",\"Population\":\"1.73 Million\",\"Fact\":\"Hyderabad is 6th Largest city of Pakistan.\"},\n",
    "    'London':{\"Country\":\"England\",\"Population\":\"8.9 Million\",\"Fact\":\"London Has 170 Museums.\"},\n",
    "    'Mumbai':{\"Country\":\"India\",\"Population\":\"18.41 Million\",\"Fact\":\"Mumbai was the first one to start a bus service in India.\"} \n",
    "        }\n",
    "print(cities)"
   ]
  },
  {
   "cell_type": "code",
   "execution_count": 3,
   "metadata": {},
   "outputs": [
    {
     "name": "stdout",
     "output_type": "stream",
     "text": [
      "Enter your age: 19\n",
      "The price of your ticket is $15.\n"
     ]
    }
   ],
   "source": [
    "# Q3:\n",
    "age=[int(x) for x in input(\"Enter your age: \").split()]\n",
    "for n in age:\n",
    "    if (n<=3):\n",
    "        print(\"Your Ticket is free!\")\n",
    "    elif (n>3 and n<=12):\n",
    "        print(\"The price of your ticket is $10.\")\n",
    "    elif (n>12):\n",
    "        print(\"The price of your ticket is $15.\")"
   ]
  },
  {
   "cell_type": "code",
   "execution_count": 4,
   "metadata": {},
   "outputs": [
    {
     "name": "stdout",
     "output_type": "stream",
     "text": [
      "My favorite book is 'To Kill a Mocking Bird' written by 'Harper Lee'.\n"
     ]
    }
   ],
   "source": [
    "# Q4: \n",
    "def favorite_book(title):\n",
    "    print(title)\n",
    "    \n",
    "    \n",
    "favorite_book(\"My favorite book is 'To Kill a Mocking Bird' written by 'Harper Lee'.\")"
   ]
  },
  {
   "cell_type": "code",
   "execution_count": 7,
   "metadata": {},
   "outputs": [
    {
     "name": "stdout",
     "output_type": "stream",
     "text": [
      "Please enter your guess: 3\n",
      "Hint: Your number is less than the required number.\n"
     ]
    }
   ],
   "source": [
    "# Q5: \n",
    "import random\n",
    "rand_num = random.randrange(1,30)\n",
    "#print(rand_num)\n",
    "guess_num = int(input(\"Please enter your guess: \"))\n",
    "if guess_num == rand_num:\n",
    "    print(\"You're Correct!\")\n",
    "elif guess_num < rand_num:\n",
    "    print (\"Hint: Your number is less than the required number.\")\n",
    "else:\n",
    "    print (\"Hint: Your number is greater than the required number.\")"
   ]
  },
  {
   "cell_type": "code",
   "execution_count": null,
   "metadata": {},
   "outputs": [],
   "source": []
  }
 ],
 "metadata": {
  "kernelspec": {
   "display_name": "Python 3",
   "language": "python",
   "name": "python3"
  },
  "language_info": {
   "codemirror_mode": {
    "name": "ipython",
    "version": 3
   },
   "file_extension": ".py",
   "mimetype": "text/x-python",
   "name": "python",
   "nbconvert_exporter": "python",
   "pygments_lexer": "ipython3",
   "version": "3.7.4"
  }
 },
 "nbformat": 4,
 "nbformat_minor": 2
}
